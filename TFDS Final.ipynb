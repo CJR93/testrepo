{
  "metadata": {
    "language_info": {
      "codemirror_mode": {
        "name": "python",
        "version": 3
      },
      "file_extension": ".py",
      "mimetype": "text/x-python",
      "name": "python",
      "nbconvert_exporter": "python",
      "pygments_lexer": "ipython3",
      "version": "3.8"
    },
    "kernelspec": {
      "name": "python",
      "display_name": "Pyolite",
      "language": "python"
    }
  },
  "nbformat_minor": 4,
  "nbformat": 4,
  "cells": [
    {
      "cell_type": "markdown",
      "source": "My Jupyter Notebook on IBM Watson Studio",
      "metadata": {
        "tags": []
      }
    },
    {
      "cell_type": "markdown",
      "source": "<b>Cory Rosales</b>\n\nWarehouse Shipping Supervisor",
      "metadata": {}
    },
    {
      "cell_type": "markdown",
      "source": "*Data science is a new and exciting concept for me. I am interested in learning more about analyzing large bodies of data to search for information and identify trends.*",
      "metadata": {}
    },
    {
      "cell_type": "markdown",
      "source": "Code in Cell 5 identifies 200 multiplied by 300",
      "metadata": {}
    },
    {
      "cell_type": "code",
      "source": "200*300",
      "metadata": {
        "trusted": true
      },
      "execution_count": 13,
      "outputs": [
        {
          "execution_count": 13,
          "output_type": "execute_result",
          "data": {
            "text/plain": "60000"
          },
          "metadata": {}
        }
      ]
    },
    {
      "cell_type": "markdown",
      "source": "<a href=\"https://www.youtube.com/watch?v=oa-kh9Z-wcY\">Civic Type R time attack</a> ",
      "metadata": {}
    },
    {
      "cell_type": "markdown",
      "source": "Information\n1. Input\n2. Output\n3. Import\n4. Export",
      "metadata": {}
    },
    {
      "cell_type": "markdown",
      "source": "| Code ABC | Code ABC |\n|----------|----------|\n| Code XYZ | Code XYZ | ",
      "metadata": {}
    },
    {
      "cell_type": "code",
      "source": "",
      "metadata": {},
      "execution_count": null,
      "outputs": []
    }
  ]
}